{
  "cells": [
    {
      "cell_type": "markdown",
      "metadata": {
        "id": "JqSujq61cZ-m"
      },
      "source": [
        "# Lab Exercise: SQL Analysis with Polars\n",
        "\n",
        "In this lab, you'll practice SQL queries using Polars' built-in SQL functionality. Complete each exercise by writing the appropriate SQL query."
      ]
    },
    {
      "cell_type": "code",
      "execution_count": 8,
      "metadata": {
        "colab": {
          "base_uri": "https://localhost:8080/"
        },
        "id": "-Fll3IyIcZ-o",
        "outputId": "31f36589-b667-4378-c894-8a73f989f2b2"
      },
      "outputs": [
        {
          "output_type": "stream",
          "name": "stdout",
          "text": [
            "Setup complete! Tables available:\n",
            "shape: (5, 1)\n",
            "┌──────────┐\n",
            "│ name     │\n",
            "│ ---      │\n",
            "│ str      │\n",
            "╞══════════╡\n",
            "│ airlines │\n",
            "│ airports │\n",
            "│ flights  │\n",
            "│ planes   │\n",
            "│ weather  │\n",
            "└──────────┘\n"
          ]
        },
        {
          "output_type": "stream",
          "name": "stderr",
          "text": [
            "/tmp/ipython-input-3104250466.py:15: DeprecationWarning: The argument `eager_execution` for `SQLContext.__init__` is deprecated. It has been renamed to `eager`.\n",
            "  ctx = pl.SQLContext(\n"
          ]
        }
      ],
      "source": [
        "# Setup - Run this cell first\n",
        "import polars as pl\n",
        "\n",
        "# Load data\n",
        "airlines = pl.read_csv('https://raw.githubusercontent.com/philhetzel/opan5510-class11/refs/heads/main/data/nyc_airlines.csv')\n",
        "airports = pl.read_csv('https://raw.githubusercontent.com/philhetzel/opan5510-class11/refs/heads/main/data/nyc_airports.csv')\n",
        "flights = pl.read_csv('https://raw.githubusercontent.com/philhetzel/opan5510-class11/refs/heads/main/data/nyc_flights.csv', null_values='NA')\n",
        "planes = pl.read_csv('https://raw.githubusercontent.com/philhetzel/opan5510-class11/refs/heads/main/data/nyc_planes.csv', null_values='NA')\n",
        "weather = pl.read_csv('https://raw.githubusercontent.com/philhetzel/opan5510-class11/refs/heads/main/data/nyc_weather.csv', schema_overrides={'precip': pl.Float64, 'visib': pl.Float64}, null_values='NA')\n",
        "\n",
        "flights = flights.with_columns(pl.col(\"time_hour\").str.strptime(pl.Datetime))\n",
        "weather = weather.with_columns(pl.col(\"time_hour\").str.strptime(pl.Datetime))\n",
        "\n",
        "# Create SQL context\n",
        "ctx = pl.SQLContext(\n",
        "    airlines=airlines,\n",
        "    airports=airports,\n",
        "    flights=flights,\n",
        "    planes=planes,\n",
        "    weather=weather,\n",
        "    eager_execution=True\n",
        ")\n",
        "\n",
        "print(\"Setup complete! Tables available:\")\n",
        "print(ctx.execute(\"SHOW TABLES\"))"
      ]
    },
    {
      "cell_type": "markdown",
      "metadata": {
        "id": "vjneQfPfcZ-p"
      },
      "source": [
        "## Exercise 1: Basic Queries\n",
        "\n",
        "### 1.1 Find all unique carriers in the airlines table"
      ]
    },
    {
      "cell_type": "code",
      "execution_count": 12,
      "metadata": {
        "colab": {
          "base_uri": "https://localhost:8080/"
        },
        "id": "b5E2PEv4cZ-p",
        "outputId": "b6006591-6e3a-483e-911a-23ab07744723"
      },
      "outputs": [
        {
          "output_type": "stream",
          "name": "stdout",
          "text": [
            "shape: (16, 2)\n",
            "┌─────────┬────────────────────────┐\n",
            "│ carrier ┆ name                   │\n",
            "│ ---     ┆ ---                    │\n",
            "│ str     ┆ str                    │\n",
            "╞═════════╪════════════════════════╡\n",
            "│ 9E      ┆ Endeavor Air Inc.      │\n",
            "│ AA      ┆ American Airlines Inc. │\n",
            "│ AS      ┆ Alaska Airlines Inc.   │\n",
            "│ B6      ┆ JetBlue Airways        │\n",
            "│ DL      ┆ Delta Air Lines Inc.   │\n",
            "│ …       ┆ …                      │\n",
            "│ UA      ┆ United Air Lines Inc.  │\n",
            "│ US      ┆ US Airways Inc.        │\n",
            "│ VX      ┆ Virgin America         │\n",
            "│ WN      ┆ Southwest Airlines Co. │\n",
            "│ YV      ┆ Mesa Airlines Inc.     │\n",
            "└─────────┴────────────────────────┘\n"
          ]
        }
      ],
      "source": [
        "# Write your SQL query here\n",
        "result = ctx.execute(\"\"\"\n",
        "    SELECT *\n",
        "    FROM airlines\n",
        "\"\"\")\n",
        "print(result)"
      ]
    },
    {
      "cell_type": "markdown",
      "metadata": {
        "id": "BVwMpDIXcZ-p"
      },
      "source": [
        "### 1.2 Find the top 10 destinations by number of flights"
      ]
    },
    {
      "cell_type": "code",
      "execution_count": 13,
      "metadata": {
        "colab": {
          "base_uri": "https://localhost:8080/"
        },
        "id": "YmKx7PxWcZ-q",
        "outputId": "20dc3895-321e-4f4c-9814-b7fee51b97dd"
      },
      "outputs": [
        {
          "output_type": "stream",
          "name": "stdout",
          "text": [
            "shape: (10, 2)\n",
            "┌──────┬─────────────┐\n",
            "│ dest ┆ num_flights │\n",
            "│ ---  ┆ ---         │\n",
            "│ str  ┆ u32         │\n",
            "╞══════╪═════════════╡\n",
            "│ ORD  ┆ 17283       │\n",
            "│ ATL  ┆ 17215       │\n",
            "│ LAX  ┆ 16174       │\n",
            "│ BOS  ┆ 15508       │\n",
            "│ MCO  ┆ 14082       │\n",
            "│ CLT  ┆ 14064       │\n",
            "│ SFO  ┆ 13331       │\n",
            "│ FLL  ┆ 12055       │\n",
            "│ MIA  ┆ 11728       │\n",
            "│ DCA  ┆ 9705        │\n",
            "└──────┴─────────────┘\n"
          ]
        }
      ],
      "source": [
        "# Write your SQL query here\n",
        "result = ctx.execute(\"\"\"\n",
        "SELECT dest, COUNT(*) as num_flights\n",
        "FROM flights\n",
        "GROUP BY dest\n",
        "ORDER BY num_flights DESC\n",
        "LIMIT 10\n",
        "\"\"\")\n",
        "print(result)"
      ]
    },
    {
      "cell_type": "markdown",
      "metadata": {
        "id": "kL75z0M2cZ-q"
      },
      "source": [
        "### 1.3 Find all flights that departed more than 2 hours late (120 minutes)"
      ]
    },
    {
      "cell_type": "code",
      "execution_count": 14,
      "metadata": {
        "colab": {
          "base_uri": "https://localhost:8080/"
        },
        "id": "Vd-5P_VdcZ-q",
        "outputId": "cf6a93ee-a0d3-477b-8245-31f05cd5e9f4"
      },
      "outputs": [
        {
          "output_type": "stream",
          "name": "stdout",
          "text": [
            "shape: (9_723, 19)\n",
            "┌──────┬───────┬─────┬──────────┬───┬──────────┬──────┬────────┬─────────────────────────┐\n",
            "│ year ┆ month ┆ day ┆ dep_time ┆ … ┆ distance ┆ hour ┆ minute ┆ time_hour               │\n",
            "│ ---  ┆ ---   ┆ --- ┆ ---      ┆   ┆ ---      ┆ ---  ┆ ---    ┆ ---                     │\n",
            "│ i64  ┆ i64   ┆ i64 ┆ i64      ┆   ┆ i64      ┆ i64  ┆ i64    ┆ datetime[μs, UTC]       │\n",
            "╞══════╪═══════╪═════╪══════════╪═══╪══════════╪══════╪════════╪═════════════════════════╡\n",
            "│ 2013 ┆ 1     ┆ 1   ┆ 848      ┆ … ┆ 184      ┆ 18   ┆ 35     ┆ 2013-01-01 23:00:00 UTC │\n",
            "│ 2013 ┆ 1     ┆ 1   ┆ 957      ┆ … ┆ 200      ┆ 7    ┆ 33     ┆ 2013-01-01 12:00:00 UTC │\n",
            "│ 2013 ┆ 1     ┆ 1   ┆ 1114     ┆ … ┆ 1416     ┆ 9    ┆ 0      ┆ 2013-01-01 14:00:00 UTC │\n",
            "│ 2013 ┆ 1     ┆ 1   ┆ 1540     ┆ … ┆ 1598     ┆ 13   ┆ 38     ┆ 2013-01-01 18:00:00 UTC │\n",
            "│ 2013 ┆ 1     ┆ 1   ┆ 1815     ┆ … ┆ 1134     ┆ 13   ┆ 25     ┆ 2013-01-01 18:00:00 UTC │\n",
            "│ …    ┆ …     ┆ …   ┆ …        ┆ … ┆ …        ┆ …    ┆ …      ┆ …                       │\n",
            "│ 2013 ┆ 9     ┆ 30  ┆ 1823     ┆ … ┆ 765      ┆ 15   ┆ 45     ┆ 2013-09-30 19:00:00 UTC │\n",
            "│ 2013 ┆ 9     ┆ 30  ┆ 1951     ┆ … ┆ 708      ┆ 16   ┆ 49     ┆ 2013-09-30 20:00:00 UTC │\n",
            "│ 2013 ┆ 9     ┆ 30  ┆ 2053     ┆ … ┆ 746      ┆ 18   ┆ 15     ┆ 2013-09-30 22:00:00 UTC │\n",
            "│ 2013 ┆ 9     ┆ 30  ┆ 2159     ┆ … ┆ 301      ┆ 18   ┆ 45     ┆ 2013-09-30 22:00:00 UTC │\n",
            "│ 2013 ┆ 9     ┆ 30  ┆ 2235     ┆ … ┆ 944      ┆ 20   ┆ 1      ┆ 2013-10-01 00:00:00 UTC │\n",
            "└──────┴───────┴─────┴──────────┴───┴──────────┴──────┴────────┴─────────────────────────┘\n"
          ]
        }
      ],
      "source": [
        "# Write your SQL query here\n",
        "result = ctx.execute(\"\"\"\n",
        "SELECT *\n",
        "FROM flights\n",
        "WHERE dep_delay > 120\n",
        "\"\"\")\n",
        "print(result)"
      ]
    },
    {
      "cell_type": "markdown",
      "metadata": {
        "id": "dbpj_YpQcZ-q"
      },
      "source": [
        "## Exercise 2: Aggregation\n",
        "\n",
        "### 2.1 Calculate the average departure delay for each origin airport"
      ]
    },
    {
      "cell_type": "code",
      "execution_count": 15,
      "metadata": {
        "colab": {
          "base_uri": "https://localhost:8080/"
        },
        "id": "TGMnc-vCcZ-q",
        "outputId": "57d94e39-692b-4f61-e78a-074ce20016ea"
      },
      "outputs": [
        {
          "output_type": "stream",
          "name": "stdout",
          "text": [
            "shape: (3, 2)\n",
            "┌────────┬───────────┐\n",
            "│ origin ┆ avg_delay │\n",
            "│ ---    ┆ ---       │\n",
            "│ str    ┆ f64       │\n",
            "╞════════╪═══════════╡\n",
            "│ EWR    ┆ 15.107954 │\n",
            "│ JFK    ┆ 12.112159 │\n",
            "│ LGA    ┆ 10.346876 │\n",
            "└────────┴───────────┘\n"
          ]
        }
      ],
      "source": [
        "# Write your SQL query here\n",
        "result = ctx.execute(\"\"\"\n",
        "SELECT origin, AVG(dep_delay) as avg_delay\n",
        "FROM flights\n",
        "GROUP BY origin\n",
        "ORDER BY avg_delay DESC\n",
        "\"\"\")\n",
        "print(result)"
      ]
    },
    {
      "cell_type": "markdown",
      "metadata": {
        "id": "39292hBZcZ-q"
      },
      "source": [
        "### 2.2 Find the busiest month of the year\n",
        "\n",
        "Count the number of flights per month and find which month has the most flights."
      ]
    },
    {
      "cell_type": "code",
      "execution_count": 17,
      "metadata": {
        "colab": {
          "base_uri": "https://localhost:8080/"
        },
        "id": "R84vCg2ncZ-r",
        "outputId": "96d96ff9-2a05-4bae-b0e7-880848c10341"
      },
      "outputs": [
        {
          "output_type": "stream",
          "name": "stdout",
          "text": [
            "shape: (5, 19)\n",
            "┌──────┬───────┬─────┬──────────┬───┬──────────┬──────┬────────┬─────────────────────────┐\n",
            "│ year ┆ month ┆ day ┆ dep_time ┆ … ┆ distance ┆ hour ┆ minute ┆ time_hour               │\n",
            "│ ---  ┆ ---   ┆ --- ┆ ---      ┆   ┆ ---      ┆ ---  ┆ ---    ┆ ---                     │\n",
            "│ i64  ┆ i64   ┆ i64 ┆ i64      ┆   ┆ i64      ┆ i64  ┆ i64    ┆ datetime[μs, UTC]       │\n",
            "╞══════╪═══════╪═════╪══════════╪═══╪══════════╪══════╪════════╪═════════════════════════╡\n",
            "│ 2013 ┆ 1     ┆ 1   ┆ 517      ┆ … ┆ 1400     ┆ 5    ┆ 15     ┆ 2013-01-01 10:00:00 UTC │\n",
            "│ 2013 ┆ 1     ┆ 1   ┆ 533      ┆ … ┆ 1416     ┆ 5    ┆ 29     ┆ 2013-01-01 10:00:00 UTC │\n",
            "│ 2013 ┆ 1     ┆ 1   ┆ 542      ┆ … ┆ 1089     ┆ 5    ┆ 40     ┆ 2013-01-01 10:00:00 UTC │\n",
            "│ 2013 ┆ 1     ┆ 1   ┆ 544      ┆ … ┆ 1576     ┆ 5    ┆ 45     ┆ 2013-01-01 10:00:00 UTC │\n",
            "│ 2013 ┆ 1     ┆ 1   ┆ 554      ┆ … ┆ 762      ┆ 6    ┆ 0      ┆ 2013-01-01 11:00:00 UTC │\n",
            "└──────┴───────┴─────┴──────────┴───┴──────────┴──────┴────────┴─────────────────────────┘\n",
            "shape: (1, 2)\n",
            "┌───────┬─────────────┐\n",
            "│ month ┆ num_flights │\n",
            "│ ---   ┆ ---         │\n",
            "│ i64   ┆ u32         │\n",
            "╞═══════╪═════════════╡\n",
            "│ 7     ┆ 29425       │\n",
            "└───────┴─────────────┘\n"
          ]
        }
      ],
      "source": [
        "# First, let's check what columns are available\n",
        "result = ctx.execute(\"\"\"\n",
        "    SELECT *\n",
        "    FROM flights\n",
        "    LIMIT 5\n",
        "\"\"\")\n",
        "print(result)\n",
        "\n",
        "# Now write your query to find busiest month\n",
        "result = ctx.execute(\"\"\"\n",
        "SELECT month,\n",
        "       COUNT(*) as num_flights\n",
        "FROM flights\n",
        "GROUP BY month\n",
        "ORDER BY num_flights DESC\n",
        "LIMIT 1\n",
        "\"\"\")\n",
        "\n",
        "print(result)"
      ]
    },
    {
      "cell_type": "markdown",
      "metadata": {
        "id": "s3vZwutMcZ-r"
      },
      "source": [
        "### 2.3 Calculate the on-time performance rate for each carrier\n",
        "\n",
        "Consider a flight on-time if the departure delay is <= 15 minutes."
      ]
    },
    {
      "cell_type": "code",
      "execution_count": 20,
      "metadata": {
        "colab": {
          "base_uri": "https://localhost:8080/"
        },
        "id": "CzFKdfhAcZ-r",
        "outputId": "9c7323ca-97c7-4230-b020-eb56fcc8de18"
      },
      "outputs": [
        {
          "output_type": "stream",
          "name": "stdout",
          "text": [
            "shape: (16, 2)\n",
            "┌─────────┬──────────────┐\n",
            "│ carrier ┆ on_time_rate │\n",
            "│ ---     ┆ ---          │\n",
            "│ str     ┆ f64          │\n",
            "╞═════════╪══════════════╡\n",
            "│ HA      ┆ 92.982456    │\n",
            "│ AS      ┆ 86.554622    │\n",
            "│ US      ┆ 84.987339    │\n",
            "│ DL      ┆ 83.074205    │\n",
            "│ AA      ┆ 82.437594    │\n",
            "│ …       ┆ …            │\n",
            "│ FL      ┆ 71.687117    │\n",
            "│ F9      ┆ 71.532847    │\n",
            "│ 9E      ┆ 70.124594    │\n",
            "│ EV      ┆ 65.922138    │\n",
            "│ YV      ┆ 64.725458    │\n",
            "└─────────┴──────────────┘\n"
          ]
        }
      ],
      "source": [
        "# Write your SQL query here\n",
        "result = ctx.execute(\"\"\"\n",
        "SELECT carrier,\n",
        "       (AVG(CASE WHEN dep_delay <= 15 THEN 1 ELSE 0 END)*100) as on_time_rate\n",
        "FROM flights\n",
        "GROUP BY carrier\n",
        "ORDER BY on_time_rate DESC\n",
        "\"\"\")\n",
        "print(result)"
      ]
    },
    {
      "cell_type": "markdown",
      "metadata": {
        "id": "4wMLiUQ-cZ-r"
      },
      "source": [
        "## Exercise 3: Joins\n",
        "\n",
        "### 3.1 List all flights with their airline names (not just carrier codes)\n",
        "\n",
        "Show the first 20 flights with carrier code, airline name, flight number, origin, and destination."
      ]
    },
    {
      "cell_type": "code",
      "execution_count": 21,
      "metadata": {
        "colab": {
          "base_uri": "https://localhost:8080/"
        },
        "id": "2DjzcSHhcZ-r",
        "outputId": "7cef5391-7a82-4fa3-fa4f-0aae313aa7a8"
      },
      "outputs": [
        {
          "output_type": "stream",
          "name": "stdout",
          "text": [
            "shape: (20, 5)\n",
            "┌─────────┬────────────────────────┬────────┬────────┬──────┐\n",
            "│ carrier ┆ airline_name           ┆ flight ┆ origin ┆ dest │\n",
            "│ ---     ┆ ---                    ┆ ---    ┆ ---    ┆ ---  │\n",
            "│ str     ┆ str                    ┆ i64    ┆ str    ┆ str  │\n",
            "╞═════════╪════════════════════════╪════════╪════════╪══════╡\n",
            "│ UA      ┆ United Air Lines Inc.  ┆ 1545   ┆ EWR    ┆ IAH  │\n",
            "│ UA      ┆ United Air Lines Inc.  ┆ 1714   ┆ LGA    ┆ IAH  │\n",
            "│ AA      ┆ American Airlines Inc. ┆ 1141   ┆ JFK    ┆ MIA  │\n",
            "│ B6      ┆ JetBlue Airways        ┆ 725    ┆ JFK    ┆ BQN  │\n",
            "│ DL      ┆ Delta Air Lines Inc.   ┆ 461    ┆ LGA    ┆ ATL  │\n",
            "│ …       ┆ …                      ┆ …      ┆ …      ┆ …    │\n",
            "│ B6      ┆ JetBlue Airways        ┆ 1806   ┆ JFK    ┆ BOS  │\n",
            "│ UA      ┆ United Air Lines Inc.  ┆ 1187   ┆ EWR    ┆ LAS  │\n",
            "│ B6      ┆ JetBlue Airways        ┆ 371    ┆ LGA    ┆ FLL  │\n",
            "│ MQ      ┆ Envoy Air              ┆ 4650   ┆ LGA    ┆ ATL  │\n",
            "│ B6      ┆ JetBlue Airways        ┆ 343    ┆ EWR    ┆ PBI  │\n",
            "└─────────┴────────────────────────┴────────┴────────┴──────┘\n"
          ]
        }
      ],
      "source": [
        "# Write your SQL query here\n",
        "result = ctx.execute(\"\"\"\n",
        "SELECT f.carrier,\n",
        "       a.name as airline_name,\n",
        "       f.flight,\n",
        "       f.origin,\n",
        "       f.dest\n",
        "FROM flights f\n",
        "JOIN airlines a\n",
        "ON f.carrier = a.carrier\n",
        "LIMIT 20\n",
        "\"\"\")\n",
        "print(result)"
      ]
    },
    {
      "cell_type": "markdown",
      "metadata": {
        "id": "4tVBaMqWcZ-r"
      },
      "source": [
        "### 3.2 Find the average age of planes for each carrier\n",
        "\n",
        "Hint: The planes table has a `year` column for manufacture year. Calculate age based on 2013."
      ]
    },
    {
      "cell_type": "code",
      "execution_count": 22,
      "metadata": {
        "colab": {
          "base_uri": "https://localhost:8080/"
        },
        "id": "clrI5cVGcZ-r",
        "outputId": "38c6642d-b452-4bb6-f660-95aa18643932"
      },
      "outputs": [
        {
          "output_type": "stream",
          "name": "stdout",
          "text": [
            "shape: (16, 2)\n",
            "┌─────────┬───────────┐\n",
            "│ carrier ┆ avg_age   │\n",
            "│ ---     ┆ ---       │\n",
            "│ str     ┆ f64       │\n",
            "╞═════════╪═══════════╡\n",
            "│ AA      ┆ 25.869426 │\n",
            "│ FL      ┆ 11.385829 │\n",
            "│ DL      ┆ 16.372169 │\n",
            "│ VX      ┆ 4.473643  │\n",
            "│ US      ┆ 9.103663  │\n",
            "│ …       ┆ …         │\n",
            "│ WN      ┆ 9.146052  │\n",
            "│ YV      ┆ 9.313758  │\n",
            "│ EV      ┆ 11.308998 │\n",
            "│ B6      ┆ 6.686702  │\n",
            "│ AS      ┆ 3.33662   │\n",
            "└─────────┴───────────┘\n"
          ]
        }
      ],
      "source": [
        "# Write your SQL query here\n",
        "result = ctx.execute(\"\"\"\n",
        "SELECT f.carrier,\n",
        "       AVG(2013 - p.year) as avg_age\n",
        "FROM flights f\n",
        "JOIN planes p\n",
        "ON f.tailnum = p.tailnum\n",
        "GROUP BY f.carrier\n",
        "\"\"\")\n",
        "print(result)"
      ]
    },
    {
      "cell_type": "markdown",
      "metadata": {
        "id": "gDCxDL6EcZ-r"
      },
      "source": [
        "### 3.3 Find flights that experienced both departure delays and bad weather\n",
        "\n",
        "Join flights with weather data and find flights where departure delay > 30 minutes and either wind_speed > 20 or precip > 0.1"
      ]
    },
    {
      "cell_type": "code",
      "execution_count": 23,
      "metadata": {
        "colab": {
          "base_uri": "https://localhost:8080/"
        },
        "id": "ybO2UzFWcZ-s",
        "outputId": "a5340665-0691-4a81-dea3-00efd976657a"
      },
      "outputs": [
        {
          "output_type": "stream",
          "name": "stdout",
          "text": [
            "shape: (5, 15)\n",
            "┌────────┬──────┬───────┬─────┬───┬────────┬──────────┬───────┬─────────────────────────┐\n",
            "│ origin ┆ year ┆ month ┆ day ┆ … ┆ precip ┆ pressure ┆ visib ┆ time_hour               │\n",
            "│ ---    ┆ ---  ┆ ---   ┆ --- ┆   ┆ ---    ┆ ---      ┆ ---   ┆ ---                     │\n",
            "│ str    ┆ i64  ┆ i64   ┆ i64 ┆   ┆ f64    ┆ f64      ┆ f64   ┆ datetime[μs, UTC]       │\n",
            "╞════════╪══════╪═══════╪═════╪═══╪════════╪══════════╪═══════╪═════════════════════════╡\n",
            "│ EWR    ┆ 2013 ┆ 1     ┆ 1   ┆ … ┆ 0.0    ┆ 1012.0   ┆ 10.0  ┆ 2013-01-01 06:00:00 UTC │\n",
            "│ EWR    ┆ 2013 ┆ 1     ┆ 1   ┆ … ┆ 0.0    ┆ 1012.3   ┆ 10.0  ┆ 2013-01-01 07:00:00 UTC │\n",
            "│ EWR    ┆ 2013 ┆ 1     ┆ 1   ┆ … ┆ 0.0    ┆ 1012.5   ┆ 10.0  ┆ 2013-01-01 08:00:00 UTC │\n",
            "│ EWR    ┆ 2013 ┆ 1     ┆ 1   ┆ … ┆ 0.0    ┆ 1012.2   ┆ 10.0  ┆ 2013-01-01 09:00:00 UTC │\n",
            "│ EWR    ┆ 2013 ┆ 1     ┆ 1   ┆ … ┆ 0.0    ┆ 1011.9   ┆ 10.0  ┆ 2013-01-01 10:00:00 UTC │\n",
            "└────────┴──────┴───────┴─────┴───┴────────┴──────────┴───────┴─────────────────────────┘\n",
            "shape: (4_938, 19)\n",
            "┌──────┬───────┬─────┬──────────┬───┬──────────┬──────┬────────┬─────────────────────────┐\n",
            "│ year ┆ month ┆ day ┆ dep_time ┆ … ┆ distance ┆ hour ┆ minute ┆ time_hour               │\n",
            "│ ---  ┆ ---   ┆ --- ┆ ---      ┆   ┆ ---      ┆ ---  ┆ ---    ┆ ---                     │\n",
            "│ i64  ┆ i64   ┆ i64 ┆ i64      ┆   ┆ i64      ┆ i64  ┆ i64    ┆ datetime[μs, UTC]       │\n",
            "╞══════╪═══════╪═════╪══════════╪═══╪══════════╪══════╪════════╪═════════════════════════╡\n",
            "│ 2013 ┆ 1     ┆ 1   ┆ 2217     ┆ … ┆ 1005     ┆ 21   ┆ 30     ┆ 2013-01-02 02:00:00 UTC │\n",
            "│ 2013 ┆ 1     ┆ 1   ┆ 2326     ┆ … ┆ 2248     ┆ 21   ┆ 30     ┆ 2013-01-02 02:00:00 UTC │\n",
            "│ 2013 ┆ 1     ┆ 4   ┆ 1238     ┆ … ┆ 820      ┆ 11   ┆ 59     ┆ 2013-01-04 16:00:00 UTC │\n",
            "│ 2013 ┆ 1     ┆ 4   ┆ 1400     ┆ … ┆ 212      ┆ 13   ┆ 20     ┆ 2013-01-04 18:00:00 UTC │\n",
            "│ 2013 ┆ 1     ┆ 4   ┆ 1455     ┆ … ┆ 187      ┆ 14   ┆ 22     ┆ 2013-01-04 19:00:00 UTC │\n",
            "│ …    ┆ …     ┆ …   ┆ …        ┆ … ┆ …        ┆ …    ┆ …      ┆ …                       │\n",
            "│ 2013 ┆ 9     ┆ 22  ┆ 1540     ┆ … ┆ 762      ┆ 14   ┆ 59     ┆ 2013-09-22 18:00:00 UTC │\n",
            "│ 2013 ┆ 9     ┆ 22  ┆ 1957     ┆ … ┆ 335      ┆ 18   ┆ 20     ┆ 2013-09-22 22:00:00 UTC │\n",
            "│ 2013 ┆ 9     ┆ 22  ┆ 2104     ┆ … ┆ 2153     ┆ 20   ┆ 22     ┆ 2013-09-23 00:00:00 UTC │\n",
            "│ 2013 ┆ 9     ┆ 22  ┆ 2111     ┆ … ┆ 2475     ┆ 20   ┆ 25     ┆ 2013-09-23 00:00:00 UTC │\n",
            "│ 2013 ┆ 9     ┆ 22  ┆ 2130     ┆ … ┆ 187      ┆ 20   ┆ 45     ┆ 2013-09-23 00:00:00 UTC │\n",
            "└──────┴───────┴─────┴──────────┴───┴──────────┴──────┴────────┴─────────────────────────┘\n"
          ]
        }
      ],
      "source": [
        "# First, explore the weather table structure\n",
        "result = ctx.execute(\"\"\"\n",
        "    SELECT *\n",
        "    FROM weather\n",
        "    LIMIT 5\n",
        "\"\"\")\n",
        "print(result)\n",
        "\n",
        "# Now write your join query\n",
        "result = ctx.execute(\"\"\"\n",
        "SELECT f.*\n",
        "FROM flights f\n",
        "JOIN weather w\n",
        "ON f.year = w.year\n",
        "AND f.month = w.month\n",
        "AND f.day = w.day\n",
        "AND f.hour = w.hour\n",
        "AND f.origin = w.origin\n",
        "WHERE f.dep_delay > 30\n",
        "AND (w.wind_speed > 20 OR w.precip > 0.1)\n",
        "\"\"\")\n",
        "print(result)"
      ]
    },
    {
      "cell_type": "markdown",
      "metadata": {
        "id": "Xzs07DepcZ-s"
      },
      "source": [
        "## Exercise 4: Advanced Queries\n",
        "\n",
        "### 4.1 Find the most popular aircraft types (by number of flights)\n",
        "\n",
        "Join flights with planes to get manufacturer and model information. Show top 10."
      ]
    },
    {
      "cell_type": "code",
      "execution_count": 24,
      "metadata": {
        "colab": {
          "base_uri": "https://localhost:8080/"
        },
        "id": "Z_OkFoh8cZ-s",
        "outputId": "2990d9fe-1743-44d7-c207-27f89c7b1c17"
      },
      "outputs": [
        {
          "output_type": "stream",
          "name": "stdout",
          "text": [
            "shape: (10, 3)\n",
            "┌───────────────────────────────┬─────────────────┬─────────────┐\n",
            "│ manufacturer                  ┆ model           ┆ num_flights │\n",
            "│ ---                           ┆ ---             ┆ ---         │\n",
            "│ str                           ┆ str             ┆ u32         │\n",
            "╞═══════════════════════════════╪═════════════════╪═════════════╡\n",
            "│ AIRBUS                        ┆ A320-232        ┆ 31278       │\n",
            "│ EMBRAER                       ┆ EMB-145LR       ┆ 28027       │\n",
            "│ EMBRAER                       ┆ ERJ 190-100 IGW ┆ 23716       │\n",
            "│ AIRBUS INDUSTRIE              ┆ A320-232        ┆ 14553       │\n",
            "│ EMBRAER                       ┆ EMB-145XR       ┆ 14051       │\n",
            "│ BOEING                        ┆ 737-824         ┆ 13809       │\n",
            "│ BOMBARDIER INC                ┆ CL-600-2D24     ┆ 11807       │\n",
            "│ BOEING                        ┆ 737-7H4         ┆ 10389       │\n",
            "│ BOEING                        ┆ 757-222         ┆ 9150        │\n",
            "│ MCDONNELL DOUGLAS AIRCRAFT CO ┆ MD-88           ┆ 8932        │\n",
            "└───────────────────────────────┴─────────────────┴─────────────┘\n"
          ]
        }
      ],
      "source": [
        "# Write your SQL query here\n",
        "result = ctx.execute(\"\"\"\n",
        "SELECT p.manufacturer,\n",
        "       p.model,\n",
        "       COUNT(*) as num_flights\n",
        "FROM flights f\n",
        "JOIN planes p\n",
        "ON f.tailnum = p.tailnum\n",
        "WHERE p.manufacturer IS NOT NULL\n",
        "AND p.model IS NOT NULL\n",
        "GROUP BY p.manufacturer, p.model\n",
        "ORDER BY num_flights DESC\n",
        "LIMIT 10\n",
        "\"\"\")\n",
        "\n",
        "print(result)"
      ]
    },
    {
      "cell_type": "markdown",
      "metadata": {
        "id": "51MWT8gbcZ-s"
      },
      "source": [
        "### 4.2 Analyze route performance\n",
        "\n",
        "Find the top 10 routes (origin-destination pairs) with:\n",
        "- Total number of flights\n",
        "- Average departure delay\n",
        "- Percentage of flights delayed more than 30 minutes\n",
        "\n",
        "Include airport names, not just codes."
      ]
    },
    {
      "cell_type": "code",
      "execution_count": 32,
      "metadata": {
        "colab": {
          "base_uri": "https://localhost:8080/"
        },
        "id": "u91bdAjqcZ-s",
        "outputId": "426fa9a6-5513-41d1-ff6e-8853d4efaf52"
      },
      "outputs": [
        {
          "output_type": "stream",
          "name": "stdout",
          "text": [
            "shape: (224, 5)\n",
            "┌────────┬──────┬─────────────┬───────────┬──────────────────────────┐\n",
            "│ origin ┆ dest ┆ num_flights ┆ avg_delay ┆ pct_delayed_more_than_30 │\n",
            "│ ---    ┆ ---  ┆ ---         ┆ ---       ┆ ---                      │\n",
            "│ str    ┆ str  ┆ u32         ┆ f64       ┆ f64                      │\n",
            "╞════════╪══════╪═════════════╪═══════════╪══════════════════════════╡\n",
            "│ EWR    ┆ ORF  ┆ 584         ┆ 17.364469 ┆ 19.863014                │\n",
            "│ LGA    ┆ TVC  ┆ 77          ┆ 23.410959 ┆ 19.480519                │\n",
            "│ EWR    ┆ ORD  ┆ 6100        ┆ 14.644163 ┆ 16.0                     │\n",
            "│ EWR    ┆ MSP  ┆ 2377        ┆ 15.313163 ┆ 15.860328                │\n",
            "│ EWR    ┆ AVL  ┆ 265         ┆ 8.616601  ┆ 13.207547                │\n",
            "│ …      ┆ …    ┆ …           ┆ …         ┆ …                        │\n",
            "│ LGA    ┆ AVL  ┆ 10          ┆ -2.6      ┆ 0.0                      │\n",
            "│ LGA    ┆ MSN  ┆ 218         ┆ 27.117925 ┆ 27.06422                 │\n",
            "│ JFK    ┆ BNA  ┆ 730         ┆ 18.875    ┆ 18.767123                │\n",
            "│ JFK    ┆ SAN  ┆ 1603        ┆ 9.821205  ┆ 10.792265                │\n",
            "│ JFK    ┆ IAH  ┆ 274         ┆ 15.617647 ┆ 14.59854                 │\n",
            "└────────┴──────┴─────────────┴───────────┴──────────────────────────┘\n"
          ]
        }
      ],
      "source": [
        "#write your SQL query here\n",
        "result = ctx.execute(\"\"\"\n",
        "SELECT\n",
        "  f.origin,\n",
        "  f.dest,\n",
        "  COUNT(*) as num_flights,\n",
        "  AVG(f.dep_delay) as avg_delay,\n",
        "  (AVG(CASE WHEN f.dep_delay > 30 THEN 1 ELSE 0 END)*100) as pct_delayed_more_than_30\n",
        "FROM flights f\n",
        "GROUP BY f.origin, f.dest;\n",
        "\"\"\")\n",
        "\n",
        "print(result)"
      ]
    },
    {
      "cell_type": "code",
      "execution_count": 33,
      "metadata": {
        "colab": {
          "base_uri": "https://localhost:8080/"
        },
        "id": "tnyVZru2cZ-s",
        "outputId": "257aa6ed-0634-4688-daff-b7121f146de4"
      },
      "outputs": [
        {
          "output_type": "stream",
          "name": "stdout",
          "text": [
            "shape: (10, 5)\n",
            "┌─────────────────────┬──────────────────────┬───────────────┬───────────────┬─────────────────────┐\n",
            "│ origin_airport      ┆ dest_airport         ┆ total_flights ┆ avg_dep_delay ┆ pct_delayed_over_30 │\n",
            "│ ---                 ┆ ---                  ┆ ---           ┆ ---           ┆ ---                 │\n",
            "│ str                 ┆ str                  ┆ u32           ┆ f64           ┆ f64                 │\n",
            "╞═════════════════════╪══════════════════════╪═══════════════╪═══════════════╪═════════════════════╡\n",
            "│ John F Kennedy Intl ┆ Los Angeles Intl     ┆ 11262         ┆ 8.522508      ┆ 9.829515            │\n",
            "│ La Guardia          ┆ Hartsfield Jackson   ┆ 10263         ┆ 11.448621     ┆ 12.247881           │\n",
            "│                     ┆ Atlanta Int…         ┆               ┆               ┆                     │\n",
            "│ La Guardia          ┆ Chicago Ohare Intl   ┆ 8857          ┆ 10.740758     ┆ 13.345377           │\n",
            "│ John F Kennedy Intl ┆ San Francisco Intl   ┆ 8204          ┆ 11.952691     ┆ 12.116041           │\n",
            "│ La Guardia          ┆ Charlotte Douglas    ┆ 6168          ┆ 8.965321      ┆ 11.948768           │\n",
            "│                     ┆ Intl                 ┆               ┆               ┆                     │\n",
            "│ Newark Liberty Intl ┆ Chicago Ohare Intl   ┆ 6100          ┆ 14.644163     ┆ 16.0                │\n",
            "│ John F Kennedy Intl ┆ General Edward       ┆ 5898          ┆ 11.694953     ┆ 13.767379           │\n",
            "│                     ┆ Lawrence Logan …     ┆               ┆               ┆                     │\n",
            "│ La Guardia          ┆ Miami Intl           ┆ 5781          ┆ 7.361747      ┆ 9.462031            │\n",
            "│ John F Kennedy Intl ┆ Orlando Intl         ┆ 5464          ┆ 10.601583     ┆ 12.719619           │\n",
            "│ Newark Liberty Intl ┆ General Edward       ┆ 5327          ┆ 12.54561      ┆ 14.9052             │\n",
            "│                     ┆ Lawrence Logan …     ┆               ┆               ┆                     │\n",
            "└─────────────────────┴──────────────────────┴───────────────┴───────────────┴─────────────────────┘\n"
          ]
        }
      ],
      "source": [
        "# Write your SQL query here\n",
        "result = ctx.execute(\"\"\"\n",
        "SELECT\n",
        "  ao.name as origin_airport,\n",
        "  ad.name as dest_airport,\n",
        "  r.total_flights,\n",
        "  r.avg_dep_delay,\n",
        "  r.pct_delayed_over_30\n",
        "FROM (\n",
        "  SELECT\n",
        "    f.origin,\n",
        "    f.dest,\n",
        "    COUNT(*) as total_flights,\n",
        "    AVG(f.dep_delay) as avg_dep_delay,\n",
        "    100.0 * SUM(CASE WHEN f.dep_delay > 30 THEN 1 ELSE 0 END) / COUNT(*) as pct_delayed_over_30\n",
        "\n",
        "    FROM flights f\n",
        "   GROUP BY f.origin, f.dest\n",
        ") r\n",
        "JOIN airports ao ON r.origin = ao.faa\n",
        "JOIN airports ad ON r.dest = ad.faa\n",
        "ORDER BY r.total_flights DESC\n",
        "LIMIT 10\n",
        "\"\"\")\n",
        "print(result)"
      ]
    },
    {
      "cell_type": "markdown",
      "metadata": {
        "id": "us1NSfixcZ-s"
      },
      "source": [
        "## Bonus: Compare with Polars\n",
        "\n",
        "### Choose one of the queries above and implement it using Polars\n",
        "\n",
        "This will help you understand the relationship between SQL and Polars operations."
      ]
    },
    {
      "cell_type": "code",
      "execution_count": null,
      "metadata": {
        "id": "QW-7_p9IcZ-s"
      },
      "outputs": [],
      "source": [
        "# Example: Let's implement Exercise 2.1 (average delay by origin) in Polars\n",
        "\n",
        "# SQL version (for reference)\n",
        "sql_result = ctx.execute(\"\"\"\n",
        "    SELECT\n",
        "        origin,\n",
        "        AVG(dep_delay) as avg_delay\n",
        "    FROM flights\n",
        "    WHERE dep_delay IS NOT NULL\n",
        "    GROUP BY origin\n",
        "    ORDER BY avg_delay DESC\n",
        "\"\"\")\n",
        "\n",
        "# Polars version\n",
        "polars_result = (\n",
        "    flights\n",
        "    .filter(pl.col('dep_delay').is_not_null())\n",
        "    .group_by('origin')\n",
        "    .agg(pl.col('dep_delay').mean().alias('avg_delay'))\n",
        "    .sort('avg_delay', descending=True)\n",
        ")\n",
        "\n",
        "print(\"SQL Result:\")\n",
        "print(sql_result)\n",
        "print(\"\\nPolars Result:\")\n",
        "print(polars_result)\n",
        "\n",
        "# Now implement one of your own queries in Polars below:\n",
        "# Your Polars code here"
      ]
    }
  ],
  "metadata": {
    "kernelspec": {
      "display_name": "Python 3",
      "language": "python",
      "name": "python3"
    },
    "language_info": {
      "codemirror_mode": {
        "name": "ipython",
        "version": 3
      },
      "file_extension": ".py",
      "mimetype": "text/x-python",
      "name": "python",
      "nbconvert_exporter": "python",
      "pygments_lexer": "ipython3",
      "version": "3.8.0"
    },
    "colab": {
      "provenance": []
    }
  },
  "nbformat": 4,
  "nbformat_minor": 0
}